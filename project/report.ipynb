{
 "cells": [
  {
   "cell_type": "markdown",
   "id": "78811cc1",
   "metadata": {},
   "source": [
    "# <h1 style=\"font-size: 32px; font-weight: bold; color: black;\">Final Report</h1>\n",
    "## Analyzing the impact of environmental factors on public health (Year 2022)\n",
    "### Summary \n",
    "This data science project aims to explore the relationship between hospital data of tuberculosis patients and the air quality in a regions of Bavaria and Brandenburg.Analyzing such data can provide valuable insights into potential correlations and\n",
    "factors that might influence the spread of tuberculosis and compare between two regions.\n",
    "\n",
    "### Main Questions\n",
    "1. Do air quality metrics (such as PM2.5 and PM10) and the number of tuberculosis cases in the region have a statistically significant relationship?\n",
    "2. Is there a vulnerable population that is particularly vulnerable to the effects of poor air quality on tuberculosis risk, such as age groups or those with pre-existing health disorders, and how can this knowledge guide public health interventions?\n",
    "3. What are the potential peaks for tuberculosis incidence in connection to air quality, and how does the relationship between air quality and tuberculosis cases change throughout different geographic locations within the region?\n",
    "\n",
    "### Datasources\n",
    "#### Datasource1: Hospital Patients Dataset\n",
    "* Metadata URL: https://www-genesis.destatis.de/genesis/online#astructure\n",
    "* Data URL: https://www-genesis.destatis.de/genesis/online?operation=abruftabelleBearbeiten&levelindex=0&levelid=1699407973798&auswahloperation=abruftabelleAuspraegungAuswaehlen&auswahlverzeichnis=ordnungsstruktur&auswahlziel=werteabruf&code=23131-0011&auswahltext=&nummer=2&variable=2&name=GES055&werteabruf=Werteabruf#abreadcrumb\n",
    "* Data Type: CSV\n",
    "\n",
    "The dataset contains information about hospital patients, including their age, region, year of admission, gender, and whether they have confirmed tuberculosis (TB).\n",
    "\n",
    "#### Datasource1: Air Quality Dataset\n",
    "* Metadata URL: https://www.umweltbundesamt.de/en/data/air/air-data\n",
    "* Data URL:  https://www.umweltbundesamt.de/api/air_data/v3/annualbalances/csv?component=1&year=2022&lang=en\n",
    "* Data Type: CSV\n",
    "\n",
    "The dataset contains information about air quality, including dust particle type, dust particle size and station location."
   ]
  },
  {
   "cell_type": "markdown",
   "id": "248f775d",
   "metadata": {},
   "source": [
    "##  Install dependencies\n",
    "Importing necessary libraries that will be used in the project"
   ]
  },
  {
   "cell_type": "code",
   "execution_count": 2,
   "id": "4dc216d6",
   "metadata": {},
   "outputs": [],
   "source": [
    "import pandas as pd\n",
    "from sqlalchemy import create_engine\n",
    "import sqlite3\n",
    "import matplotlib.pyplot as plt\n",
    "import datetime\n",
    "from pathlib import Path\n",
    "\n",
    "%matplotlib inline"
   ]
  },
  {
   "cell_type": "markdown",
   "id": "2d305b2f",
   "metadata": {},
   "source": [
    "##  Data Fetching and Preparation\n",
    "Create a functionality to retrieve the data from the data source and channel it through the ETL (Extract, Transform, Load) pipeline for the purpose of constructing an Sqlite database."
   ]
  },
  {
   "cell_type": "code",
   "execution_count": 17,
   "id": "23f0a76f",
   "metadata": {},
   "outputs": [
    {
     "name": "stdout",
     "output_type": "stream",
     "text": [
      "c:\\Users\\saad_\\OneDrive\\Desktop\\Sem-1\\MAD\\made-template\n",
      "c:\\Users\\saad_\\OneDrive\\Desktop\\Sem-1\\MAD\\made-template\n"
     ]
    }
   ],
   "source": [
    "def FetchData(file, deli):\n",
    "    df = pd.read_csv(file, delimiter=deli)\n",
    "    return df\n",
    "\n",
    "def TransformAirQuality(file,column):\n",
    "    extract_data = FetchData(file, \";\")\n",
    "    df = pd.DataFrame(extract_data)\n",
    "    air_df = df[df['State / Measuring network'].isin(['Bavaria', 'Brandenburg'])].sort_values(by='Station code', ascending=True).reset_index(drop=True)\n",
    "    if column:\n",
    "        air_df = air_df.drop(columns='Number of daily mean values above 50 µg/m³')\n",
    "        air_df = air_df.rename(columns={'Annual mean value in µg/m³': 'Annual P10 mean value in µg/m³'})\n",
    "    return air_df\n",
    "\n",
    "def TransformHospital(file, columns):\n",
    "    extract_data = FetchData(file,\",\")\n",
    "    df = pd.DataFrame(extract_data)\n",
    "    df['TB-Diagnose'] = df['TB-Diagnose'].replace('-', 0)\n",
    "    hos_df = df.rename(columns=columns)\n",
    "    return hos_df\n",
    "\n",
    "# Load data to create a SQLite file\n",
    "def Load(df, table):\n",
    "    current_directory = Path.cwd()\n",
    "    parent_directory = current_directory.parent\n",
    "    print(parent_directory)\n",
    "    database_path = f'../data/{table}.sqlite'\n",
    "    engine = create_engine(f\"sqlite:///{database_path}\")\n",
    "    df.to_sql(table, engine, if_exists=\"replace\")\n",
    "\n",
    "def main():\n",
    "    airquality_p2_file = \"https://www.umweltbundesamt.de/api/air_data/v3/annualbalances/csv?component=9&year=2022&lang=en\"\n",
    "    airquality_p10_file = \"https://www.umweltbundesamt.de/api/air_data/v3/annualbalances/csv?component=1&year=2022&lang=en\"\n",
    "    file_id = '1Nmqbq2YQOmVe0ncfwAHeOQDJRXQZVhlB'\n",
    "    hospital_tb_file = f'https://drive.google.com/uc?id={file_id}'\n",
    "    columns = {\n",
    "    \"Jahr\" : \"Year\",\n",
    "    \"Bundesländer\" : \"State\",\n",
    "    \"Geschlecht\" : \"Gender\",\n",
    "    \"Insgesamt\" : \"Total_Patient_Admited\"}\n",
    "    data_p2 = TransformAirQuality(airquality_p2_file, False)\n",
    "    data_p10 = TransformAirQuality(airquality_p10_file, True)\n",
    "    data_hospital = TransformHospital(hospital_tb_file, columns)\n",
    "    merged_df = pd.merge(data_p2, data_p10, on=[\"State / Measuring network\",\"Station code\", \"Station name\", \"Station setting\", \"Station type\"], how='inner')\n",
    "\n",
    "    Load(merged_df, \"Airquality\")\n",
    "    Load(data_hospital, \"Hospital\")\n",
    "\n",
    "if __name__ == \"__main__\":\n",
    "    main()"
   ]
  },
  {
   "cell_type": "markdown",
   "id": "7f211a74",
   "metadata": {},
   "source": [
    "##  Load Data\n",
    "Create a pandas dataframe using the local sqlite file."
   ]
  },
  {
   "cell_type": "code",
   "execution_count": 19,
   "id": "ac973549",
   "metadata": {},
   "outputs": [],
   "source": [
    "def ConnDatabase(database_air):\n",
    "    conn = sqlite3.connect(database_air)\n",
    "    cursor = conn.cursor()\n",
    "    cursor.execute(\"SELECT name FROM sqlite_master WHERE type='table';\")\n",
    "    table_names = [table[0] for table in cursor.fetchall()]\n",
    "    return conn, table_names\n",
    "\n",
    "def SqlTableDataFrames(conn, table_names):\n",
    "    dataframes = {}\n",
    "    for table_name in table_names:\n",
    "        query = f\"SELECT * FROM {table_name};\"\n",
    "        df = pd.read_sql_query(query, conn)\n",
    "        dataframes[table_name] = df\n",
    "    return dataframes\n",
    "    \n",
    "# Close connection\n",
    "def CloseConn(conn):\n",
    "    conn.close()\n",
    "\n",
    "\n",
    "# Connect DB for Airquality and hospital\n",
    "database_air = r'..\\data\\Airquality.sqlite'\n",
    "database_hos = r'..\\data\\Hospital.sqlite'\n",
    "conn_air, air_table_names = ConnDatabase(database_air)\n",
    "conn_hos, hos_table_names = ConnDatabase(database_air)\n",
    "\n",
    "# Read the tables into Pandas DataFrames\n",
    "dataframes_air = SqlTableDataFrames(conn_air, air_table_names)\n",
    "dataframes_hos = SqlTableDataFrames(conn_hos, hos_table_names)"
   ]
  },
  {
   "cell_type": "code",
   "execution_count": 25,
   "id": "55636b5d",
   "metadata": {},
   "outputs": [
    {
     "name": "stdout",
     "output_type": "stream",
     "text": [
      "Table: Airquality\n",
      "   index State / Measuring network Station code  \\\n",
      "0      0               Brandenburg      DEBB021   \n",
      "1      1               Brandenburg      DEBB029   \n",
      "2      2               Brandenburg      DEBB032   \n",
      "3      3               Brandenburg      DEBB044   \n",
      "4      4               Brandenburg      DEBB045   \n",
      "\n",
      "                       Station name Station setting Station type  \\\n",
      "0                   Potsdam-Zentrum      urban area   background   \n",
      "1                    Schwedt (Oder)   suburban area     industry   \n",
      "2                  Eisenhüttenstadt   suburban area     industry   \n",
      "3              Cottbus, Bahnhofstr.      urban area      traffic   \n",
      "4  Frankfurt (Oder), Leipziger Str.      urban area      traffic   \n",
      "\n",
      "   Annual mean value in µg/m³  Annual P10 mean value in µg/m³  \n",
      "0                         9.9                            17.0  \n",
      "1                        10.0                            15.0  \n",
      "2                        12.0                            17.0  \n",
      "3                        12.0                            19.0  \n",
      "4                        11.0                            18.0  \n",
      "\n",
      "\n"
     ]
    }
   ],
   "source": [
    "# airquality\n",
    "for table_name, df in dataframes_air.items():\n",
    "        print(f\"Table: {table_name}\")\n",
    "        print(df.head())\n",
    "        print('\\n')"
   ]
  },
  {
   "cell_type": "code",
   "execution_count": 26,
   "id": "851539ba",
   "metadata": {},
   "outputs": [
    {
     "name": "stdout",
     "output_type": "stream",
     "text": [
      "Table: Airquality\n",
      "   index State / Measuring network Station code  \\\n",
      "0      0               Brandenburg      DEBB021   \n",
      "1      1               Brandenburg      DEBB029   \n",
      "2      2               Brandenburg      DEBB032   \n",
      "3      3               Brandenburg      DEBB044   \n",
      "4      4               Brandenburg      DEBB045   \n",
      "\n",
      "                       Station name Station setting Station type  \\\n",
      "0                   Potsdam-Zentrum      urban area   background   \n",
      "1                    Schwedt (Oder)   suburban area     industry   \n",
      "2                  Eisenhüttenstadt   suburban area     industry   \n",
      "3              Cottbus, Bahnhofstr.      urban area      traffic   \n",
      "4  Frankfurt (Oder), Leipziger Str.      urban area      traffic   \n",
      "\n",
      "   Annual mean value in µg/m³  Annual P10 mean value in µg/m³  \n",
      "0                         9.9                            17.0  \n",
      "1                        10.0                            15.0  \n",
      "2                        12.0                            17.0  \n",
      "3                        12.0                            19.0  \n",
      "4                        11.0                            18.0  \n",
      "\n",
      "\n"
     ]
    }
   ],
   "source": [
    "# hospital data\n",
    "for table_name, df in dataframes_hos.items():\n",
    "        print(f\"Table: {table_name}\")\n",
    "        print(df.head())\n",
    "        print('\\n')"
   ]
  },
  {
   "cell_type": "code",
   "execution_count": 27,
   "id": "f80ff153",
   "metadata": {},
   "outputs": [],
   "source": [
    "# Close DB Connection\n",
    "CloseConn(conn_air)\n",
    "CloseConn(conn_hos)"
   ]
  },
  {
   "cell_type": "code",
   "execution_count": null,
   "id": "c71487e7",
   "metadata": {},
   "outputs": [],
   "source": []
  }
 ],
 "metadata": {
  "kernelspec": {
   "display_name": "Python 3 (ipykernel)",
   "language": "python",
   "name": "python3"
  },
  "language_info": {
   "codemirror_mode": {
    "name": "ipython",
    "version": 3
   },
   "file_extension": ".py",
   "mimetype": "text/x-python",
   "name": "python",
   "nbconvert_exporter": "python",
   "pygments_lexer": "ipython3",
   "version": "3.10.9"
  }
 },
 "nbformat": 4,
 "nbformat_minor": 5
}
